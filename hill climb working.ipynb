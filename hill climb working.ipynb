{
 "cells": [
  {
   "cell_type": "code",
   "execution_count": 1,
   "id": "c0ce91db",
   "metadata": {},
   "outputs": [
    {
     "ename": "KeyboardInterrupt",
     "evalue": "",
     "output_type": "error",
     "traceback": [
      "\u001b[1;31m---------------------------------------------------------------------------\u001b[0m",
      "\u001b[1;31mKeyboardInterrupt\u001b[0m                         Traceback (most recent call last)",
      "Cell \u001b[1;32mIn[1], line 27\u001b[0m\n\u001b[0;32m     25\u001b[0m \u001b[38;5;66;03m# Processing the Image for Hand Detection\u001b[39;00m\n\u001b[0;32m     26\u001b[0m image\u001b[38;5;241m.\u001b[39mflags\u001b[38;5;241m.\u001b[39mwriteable \u001b[38;5;241m=\u001b[39m \u001b[38;5;28;01mFalse\u001b[39;00m\n\u001b[1;32m---> 27\u001b[0m results \u001b[38;5;241m=\u001b[39m \u001b[43mhands\u001b[49m\u001b[38;5;241;43m.\u001b[39;49m\u001b[43mprocess\u001b[49m\u001b[43m(\u001b[49m\u001b[43mimage\u001b[49m\u001b[43m)\u001b[49m\n\u001b[0;32m     28\u001b[0m image\u001b[38;5;241m.\u001b[39mflags\u001b[38;5;241m.\u001b[39mwriteable \u001b[38;5;241m=\u001b[39m \u001b[38;5;28;01mTrue\u001b[39;00m\n\u001b[0;32m     30\u001b[0m \u001b[38;5;66;03m# Converting the Image back to BGR\u001b[39;00m\n",
      "File \u001b[1;32m~\\AppData\\Roaming\\Python\\Python38\\site-packages\\mediapipe\\python\\solutions\\hands.py:153\u001b[0m, in \u001b[0;36mHands.process\u001b[1;34m(self, image)\u001b[0m\n\u001b[0;32m    132\u001b[0m \u001b[38;5;28;01mdef\u001b[39;00m \u001b[38;5;21mprocess\u001b[39m(\u001b[38;5;28mself\u001b[39m, image: np\u001b[38;5;241m.\u001b[39mndarray) \u001b[38;5;241m-\u001b[39m\u001b[38;5;241m>\u001b[39m NamedTuple:\n\u001b[0;32m    133\u001b[0m \u001b[38;5;250m  \u001b[39m\u001b[38;5;124;03m\"\"\"Processes an RGB image and returns the hand landmarks and handedness of each detected hand.\u001b[39;00m\n\u001b[0;32m    134\u001b[0m \n\u001b[0;32m    135\u001b[0m \u001b[38;5;124;03m  Args:\u001b[39;00m\n\u001b[1;32m   (...)\u001b[0m\n\u001b[0;32m    150\u001b[0m \u001b[38;5;124;03m         right hand) of the detected hand.\u001b[39;00m\n\u001b[0;32m    151\u001b[0m \u001b[38;5;124;03m  \"\"\"\u001b[39;00m\n\u001b[1;32m--> 153\u001b[0m   \u001b[38;5;28;01mreturn\u001b[39;00m \u001b[38;5;28;43msuper\u001b[39;49m\u001b[43m(\u001b[49m\u001b[43m)\u001b[49m\u001b[38;5;241;43m.\u001b[39;49m\u001b[43mprocess\u001b[49m\u001b[43m(\u001b[49m\u001b[43minput_data\u001b[49m\u001b[38;5;241;43m=\u001b[39;49m\u001b[43m{\u001b[49m\u001b[38;5;124;43m'\u001b[39;49m\u001b[38;5;124;43mimage\u001b[39;49m\u001b[38;5;124;43m'\u001b[39;49m\u001b[43m:\u001b[49m\u001b[43m \u001b[49m\u001b[43mimage\u001b[49m\u001b[43m}\u001b[49m\u001b[43m)\u001b[49m\n",
      "File \u001b[1;32m~\\AppData\\Roaming\\Python\\Python38\\site-packages\\mediapipe\\python\\solution_base.py:365\u001b[0m, in \u001b[0;36mSolutionBase.process\u001b[1;34m(self, input_data)\u001b[0m\n\u001b[0;32m    359\u001b[0m   \u001b[38;5;28;01melse\u001b[39;00m:\n\u001b[0;32m    360\u001b[0m     \u001b[38;5;28mself\u001b[39m\u001b[38;5;241m.\u001b[39m_graph\u001b[38;5;241m.\u001b[39madd_packet_to_input_stream(\n\u001b[0;32m    361\u001b[0m         stream\u001b[38;5;241m=\u001b[39mstream_name,\n\u001b[0;32m    362\u001b[0m         packet\u001b[38;5;241m=\u001b[39m\u001b[38;5;28mself\u001b[39m\u001b[38;5;241m.\u001b[39m_make_packet(input_stream_type,\n\u001b[0;32m    363\u001b[0m                                  data)\u001b[38;5;241m.\u001b[39mat(\u001b[38;5;28mself\u001b[39m\u001b[38;5;241m.\u001b[39m_simulated_timestamp))\n\u001b[1;32m--> 365\u001b[0m \u001b[38;5;28;43mself\u001b[39;49m\u001b[38;5;241;43m.\u001b[39;49m\u001b[43m_graph\u001b[49m\u001b[38;5;241;43m.\u001b[39;49m\u001b[43mwait_until_idle\u001b[49m\u001b[43m(\u001b[49m\u001b[43m)\u001b[49m\n\u001b[0;32m    366\u001b[0m \u001b[38;5;66;03m# Create a NamedTuple object where the field names are mapping to the graph\u001b[39;00m\n\u001b[0;32m    367\u001b[0m \u001b[38;5;66;03m# output stream names.\u001b[39;00m\n\u001b[0;32m    368\u001b[0m solution_outputs \u001b[38;5;241m=\u001b[39m collections\u001b[38;5;241m.\u001b[39mnamedtuple(\n\u001b[0;32m    369\u001b[0m     \u001b[38;5;124m'\u001b[39m\u001b[38;5;124mSolutionOutputs\u001b[39m\u001b[38;5;124m'\u001b[39m, \u001b[38;5;28mself\u001b[39m\u001b[38;5;241m.\u001b[39m_output_stream_type_info\u001b[38;5;241m.\u001b[39mkeys())\n",
      "\u001b[1;31mKeyboardInterrupt\u001b[0m: "
     ]
    }
   ],
   "source": [
    "import cv2 as cv\n",
    "import mediapipe as mp\n",
    "from pynput.keyboard import Key, Controller\n",
    "\n",
    "# Initialize Keyboard Controller\n",
    "keyboard = Controller()\n",
    "\n",
    "mp_draw = mp.solutions.drawing_utils # Function to Draw Landmarks over Hand\n",
    "mp_hand = mp.solutions.hands # Hand Detection Function\n",
    "\n",
    "fingerTipIds = [4, 8, 12, 16, 20]\n",
    "\n",
    "# Capturing the Video from the Camera\n",
    "video = cv.VideoCapture(0)\n",
    "\n",
    "# Initializing the Hand Detection Function\n",
    "hands = mp_hand.Hands(min_detection_confidence = 0.5, min_tracking_confidence = 0.5)\n",
    "\n",
    "while True:\n",
    "    success, image = video.read()\n",
    "\n",
    "    # Converting the Image to RGB\n",
    "    image = cv.cvtColor(image, cv.COLOR_BGR2RGB)\n",
    "\n",
    "    # Processing the Image for Hand Detection\n",
    "    image.flags.writeable = False\n",
    "    results = hands.process(image)\n",
    "    image.flags.writeable = True\n",
    "\n",
    "    # Converting the Image back to BGR\n",
    "    image = cv.cvtColor(image, cv.COLOR_RGB2BGR)\n",
    "\n",
    "    # List to store the Landmark's Coordinates\n",
    "    landmarks_list = []\n",
    "\n",
    "    # If Landmarks Detected i.e., Hand Detected Sucessfully\n",
    "    if results.multi_hand_landmarks:\n",
    "        hand_landmarks = results.multi_hand_landmarks[-1]\n",
    "\n",
    "        for index, lm in enumerate(hand_landmarks.landmark):\n",
    "            h, w, c = image.shape # Height, Width, Channels\n",
    "            cx, cy = int(lm.x*w), int(lm.y*h)\n",
    "            landmarks_list.append([index, cx, cy])\n",
    "\n",
    "        # Drawing the Landmarks for only One Hand\n",
    "        # Landmarks will be drawn for the Hand which was Detected First\n",
    "        mp_draw.draw_landmarks(image, hand_landmarks, mp_hand.HAND_CONNECTIONS)\n",
    "\n",
    "    # Stores 1 if finger is Open and 0 if finger is closed\n",
    "    fingers_open = []\n",
    "\n",
    "    if len(landmarks_list) != 0:\n",
    "        for tipId in fingerTipIds:\n",
    "            if tipId == 4: # That is the thumb\n",
    "                if landmarks_list[tipId][1] > landmarks_list[tipId - 1][1]:\n",
    "                    fingers_open.append(1)\n",
    "                else: \n",
    "                    fingers_open.append(0)\n",
    "            else:\n",
    "                if landmarks_list[tipId][2] < landmarks_list[tipId - 2][2]:\n",
    "                    fingers_open.append(1)\n",
    "                else: \n",
    "                    fingers_open.append(0)\n",
    "\n",
    "    # Counts the Number of Fingers Open\n",
    "    count_fingers_open = fingers_open.count(1)\n",
    "\n",
    "    # If Hand Detected\n",
    "    if results.multi_hand_landmarks != None:\n",
    "        # If All Fingers Closed --> Break\n",
    "        if count_fingers_open == 0:\n",
    "            cv.rectangle(image, (20, 300), (270, 425), (0, 255, 0), cv.FILLED)\n",
    "            cv.putText(image, \"BRAKE\", (45, 375), cv.FONT_HERSHEY_SIMPLEX, 2, (255, 0, 0), 5)\n",
    "\n",
    "            keyboard.press(Key.left)\n",
    "            keyboard.release(Key.right)\n",
    "\n",
    "        # If All Fingers Open --> Gas\n",
    "        elif count_fingers_open == 5:\n",
    "            cv.rectangle(image, (20, 300), (270, 425), (0, 255, 0), cv.FILLED)\n",
    "            cv.putText(image, \"GAS\", (45, 375), cv.FONT_HERSHEY_SIMPLEX, 2, (255, 0, 0), 5)\n",
    "\n",
    "            keyboard.press(Key.right)\n",
    "            keyboard.release(Key.left)\n",
    "\n",
    "    # If No Hand Detected\n",
    "    else:\n",
    "        keyboard.release(Key.right)\n",
    "        keyboard.release(Key.left)\n",
    "\n",
    "    # Show the Video\n",
    "    cv.imshow(\"Frame\", image)\n",
    "    \n",
    "    # Close the Video if \"q\" key is pressed\n",
    "    if cv.waitKey(1) & 0xFF == ord('q'):\n",
    "        break\n",
    "\n",
    "video.release()\n",
    "cv.destroyAllWindows()"
   ]
  },
  {
   "cell_type": "code",
   "execution_count": 1,
   "id": "7f91243a",
   "metadata": {},
   "outputs": [
    {
     "ename": "SyntaxError",
     "evalue": "invalid syntax (2307309511.py, line 1)",
     "output_type": "error",
     "traceback": [
      "\u001b[1;36m  Cell \u001b[1;32mIn[1], line 1\u001b[1;36m\u001b[0m\n\u001b[1;33m    git config --global init.defaultBranch main\u001b[0m\n\u001b[1;37m        ^\u001b[0m\n\u001b[1;31mSyntaxError\u001b[0m\u001b[1;31m:\u001b[0m invalid syntax\n"
     ]
    }
   ],
   "source": [
    "git config --global init.defaultBranch main"
   ]
  },
  {
   "cell_type": "code",
   "execution_count": 2,
   "id": "bab506ac",
   "metadata": {},
   "outputs": [
    {
     "ename": "SyntaxError",
     "evalue": "invalid syntax (2414756351.py, line 1)",
     "output_type": "error",
     "traceback": [
      "\u001b[1;36m  Cell \u001b[1;32mIn[2], line 1\u001b[1;36m\u001b[0m\n\u001b[1;33m    git config --global user.name \"Harshi Jain\"\u001b[0m\n\u001b[1;37m        ^\u001b[0m\n\u001b[1;31mSyntaxError\u001b[0m\u001b[1;31m:\u001b[0m invalid syntax\n"
     ]
    }
   ],
   "source": [
    "git config --global user.name \"Harshi Jain\""
   ]
  },
  {
   "cell_type": "code",
   "execution_count": 3,
   "id": "22478435",
   "metadata": {},
   "outputs": [
    {
     "ename": "SyntaxError",
     "evalue": "invalid syntax (4238376967.py, line 1)",
     "output_type": "error",
     "traceback": [
      "\u001b[1;36m  Cell \u001b[1;32mIn[3], line 1\u001b[1;36m\u001b[0m\n\u001b[1;33m    git push\u001b[0m\n\u001b[1;37m        ^\u001b[0m\n\u001b[1;31mSyntaxError\u001b[0m\u001b[1;31m:\u001b[0m invalid syntax\n"
     ]
    }
   ],
   "source": [
    "git push"
   ]
  },
  {
   "cell_type": "code",
   "execution_count": null,
   "id": "8797406a",
   "metadata": {},
   "outputs": [],
   "source": []
  }
 ],
 "metadata": {
  "kernelspec": {
   "display_name": "Python 3 (ipykernel)",
   "language": "python",
   "name": "python3"
  },
  "language_info": {
   "codemirror_mode": {
    "name": "ipython",
    "version": 3
   },
   "file_extension": ".py",
   "mimetype": "text/x-python",
   "name": "python",
   "nbconvert_exporter": "python",
   "pygments_lexer": "ipython3",
   "version": "3.8.10"
  }
 },
 "nbformat": 4,
 "nbformat_minor": 5
}
